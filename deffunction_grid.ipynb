{
 "cells": [
  {
   "attachments": {},
   "cell_type": "markdown",
   "metadata": {},
   "source": [
    "Think Python(Allen Downey): Writing a function to draw specific patterns using only statements"
   ]
  },
  {
   "cell_type": "code",
   "execution_count": 6,
   "metadata": {},
   "outputs": [
    {
     "name": "stdout",
     "output_type": "stream",
     "text": [
      "+ ----- + ----- +\n"
     ]
    }
   ],
   "source": [
    "def print_row():\n",
    "    print('+',5*'-','+',5*'-','+')\n",
    "    \n",
    "\n",
    "print_row()"
   ]
  },
  {
   "cell_type": "code",
   "execution_count": 4,
   "metadata": {},
   "outputs": [
    {
     "name": "stdout",
     "output_type": "stream",
     "text": [
      "|       |       |\n",
      "|       |       |\n",
      "|       |       |\n"
     ]
    }
   ],
   "source": [
    "def print_column():\n",
    "    print('|',5*' ','|',5*' ','|')\n",
    "    print('|',5*' ','|',5*' ','|')\n",
    "    print('|',5*' ','|',5*' ','|')\n",
    "\n",
    "print_column()"
   ]
  },
  {
   "cell_type": "code",
   "execution_count": 10,
   "metadata": {},
   "outputs": [
    {
     "name": "stdout",
     "output_type": "stream",
     "text": [
      "+ ----- + ----- +\n",
      "|       |       |\n",
      "|       |       |\n",
      "|       |       |\n",
      "+ ----- + ----- +\n",
      "|       |       |\n",
      "|       |       |\n",
      "|       |       |\n",
      "+ ----- + ----- +\n"
     ]
    }
   ],
   "source": [
    "print_row()\n",
    "print_column()\n",
    "print_row()\n",
    "print_column()\n",
    "print_row()\n"
   ]
  },
  {
   "cell_type": "code",
   "execution_count": 21,
   "metadata": {},
   "outputs": [
    {
     "name": "stdout",
     "output_type": "stream",
     "text": [
      "+----+----+----+----+\n",
      "|    |    |    |    |\n",
      "|    |    |    |    |\n",
      "|    |    |    |    |\n",
      "|    |    |    |    |\n",
      "+----+----+----+----+\n",
      "|    |    |    |    |\n",
      "|    |    |    |    |\n",
      "|    |    |    |    |\n",
      "|    |    |    |    |\n",
      "+----+----+----+----+\n",
      "|    |    |    |    |\n",
      "|    |    |    |    |\n",
      "|    |    |    |    |\n",
      "|    |    |    |    |\n",
      "+----+----+----+----+\n",
      "|    |    |    |    |\n",
      "|    |    |    |    |\n",
      "|    |    |    |    |\n",
      "|    |    |    |    |\n",
      "+----+----+----+----+\n"
     ]
    }
   ],
   "source": [
    "def grid(n):\n",
    "    for i in range(n):\n",
    "        for j in range(n):\n",
    "            print('+----', end='')\n",
    "        print('+')\n",
    "        for k in range(n):\n",
    "            for j in range(n):\n",
    "                print('|    ', end='')\n",
    "            print('|')\n",
    "    for j in range(n):\n",
    "        print('+----', end='')\n",
    "    print('+')\n",
    "\n",
    "n = int(input(\"Enter the value of n: \"))\n",
    "grid(n)\n",
    "\n"
   ]
  }
 ],
 "metadata": {
  "kernelspec": {
   "display_name": "Python 3",
   "language": "python",
   "name": "python3"
  },
  "language_info": {
   "codemirror_mode": {
    "name": "ipython",
    "version": 3
   },
   "file_extension": ".py",
   "mimetype": "text/x-python",
   "name": "python",
   "nbconvert_exporter": "python",
   "pygments_lexer": "ipython3",
   "version": "3.9.13"
  },
  "orig_nbformat": 4
 },
 "nbformat": 4,
 "nbformat_minor": 2
}
