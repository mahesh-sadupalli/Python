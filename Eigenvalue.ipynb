{
 "cells": [
  {
   "cell_type": "code",
   "execution_count": 2,
   "metadata": {},
   "outputs": [],
   "source": [
    "import numpy as np\n",
    "from numpy import linalg as LA"
   ]
  },
  {
   "cell_type": "code",
   "execution_count": 5,
   "metadata": {},
   "outputs": [
    {
     "name": "stdout",
     "output_type": "stream",
     "text": [
      "[[-1  3 -5]\n",
      " [-1 -2  2]\n",
      " [ 0  1 -3]]\n"
     ]
    }
   ],
   "source": [
    "# define matrix\n",
    "A = np.array([[-1, 3, -5], [-1, -2,2], [0, 1, -3]])\n",
    "print(A)"
   ]
  },
  {
   "cell_type": "code",
   "execution_count": 7,
   "metadata": {},
   "outputs": [
    {
     "name": "stdout",
     "output_type": "stream",
     "text": [
      "[-1.99997992+0.00000000e+00j -2.00001004+1.73889314e-05j\n",
      " -2.00001004-1.73889314e-05j]\n"
     ]
    }
   ],
   "source": [
    "# compute eigenvalues and eigenvectors\n",
    "eigenVal, eigenVec = LA.eig(A)\n",
    "print(eigenVal)\n"
   ]
  },
  {
   "cell_type": "code",
   "execution_count": 4,
   "metadata": {},
   "outputs": [
    {
     "name": "stdout",
     "output_type": "stream",
     "text": [
      "[ 7.07106781e-01+0.j -5.18211926e-16+0.j  7.07106781e-01+0.j]\n",
      "[0.31622777+0.15811388j 0.15811388+0.47434165j 0.79056942+0.j        ]\n"
     ]
    }
   ],
   "source": [
    "# get eigenspace basis vectors\n",
    "v1 = eigenVec[:, 0]\n",
    "v2 = eigenVec[:, 1]\n",
    "print(v1)\n",
    "print(v2)"
   ]
  }
 ],
 "metadata": {
  "kernelspec": {
   "display_name": "Python 3",
   "language": "python",
   "name": "python3"
  },
  "language_info": {
   "codemirror_mode": {
    "name": "ipython",
    "version": 3
   },
   "file_extension": ".py",
   "mimetype": "text/x-python",
   "name": "python",
   "nbconvert_exporter": "python",
   "pygments_lexer": "ipython3",
   "version": "3.9.13"
  },
  "orig_nbformat": 4
 },
 "nbformat": 4,
 "nbformat_minor": 2
}
