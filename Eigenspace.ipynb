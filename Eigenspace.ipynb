{
 "cells": [
  {
   "cell_type": "code",
   "execution_count": 1,
   "metadata": {},
   "outputs": [],
   "source": [
    "import numpy as np\n",
    "from numpy import linalg as LA"
   ]
  },
  {
   "cell_type": "code",
   "execution_count": 4,
   "metadata": {},
   "outputs": [
    {
     "name": "stdout",
     "output_type": "stream",
     "text": [
      "[[ 0  1  1]\n",
      " [-3  2  3]\n",
      " [ 1  1  0]]\n"
     ]
    }
   ],
   "source": [
    "# define matrix\n",
    "M = np.array([[0, 1, 1], [-3, 2,3], [1, 1, 0]])\n",
    "print(M)"
   ]
  },
  {
   "cell_type": "code",
   "execution_count": 5,
   "metadata": {},
   "outputs": [
    {
     "name": "stdout",
     "output_type": "stream",
     "text": [
      "[-1.  1.  2.]\n",
      "[[ 1.68783755e-16 -7.07106781e-01  5.77350269e-01]\n",
      " [-7.07106781e-01  1.15377761e-15  5.77350269e-01]\n",
      " [ 7.07106781e-01 -7.07106781e-01  5.77350269e-01]]\n"
     ]
    }
   ],
   "source": [
    "# compute eigenvalues and eigenvectors\n",
    "eigenVal, eigenVec = LA.eig(M)\n",
    "print(eigenVal)\n",
    "print(eigenVec)\n"
   ]
  },
  {
   "cell_type": "code",
   "execution_count": 7,
   "metadata": {},
   "outputs": [
    {
     "name": "stdout",
     "output_type": "stream",
     "text": [
      "[ 1.68783755e-16 -7.07106781e-01  7.07106781e-01]\n",
      "[-7.07106781e-01  1.15377761e-15 -7.07106781e-01]\n"
     ]
    }
   ],
   "source": [
    "# get eigenspace basis vectors\n",
    "v1 = eigenVec[:, 0]\n",
    "v2 = eigenVec[:, 1]\n",
    "print(v1)\n",
    "print(v2)"
   ]
  }
 ],
 "metadata": {
  "kernelspec": {
   "display_name": "Python 3",
   "language": "python",
   "name": "python3"
  },
  "language_info": {
   "codemirror_mode": {
    "name": "ipython",
    "version": 3
   },
   "file_extension": ".py",
   "mimetype": "text/x-python",
   "name": "python",
   "nbconvert_exporter": "python",
   "pygments_lexer": "ipython3",
   "version": "3.9.13"
  },
  "orig_nbformat": 4
 },
 "nbformat": 4,
 "nbformat_minor": 2
}
