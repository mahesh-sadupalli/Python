{
 "cells": [
  {
   "cell_type": "markdown",
   "metadata": {},
   "source": [
    "OPPE: Mock 1"
   ]
  },
  {
   "cell_type": "markdown",
   "metadata": {},
   "source": [
    "Exercise 1: p and q are called twin primes if both p and q are primes and |p-q|=2. Write a function named \"twin_primes\" that accepts two integers p and q as arguments. It should return True if the arguments are twin primes and False otherwise."
   ]
  },
  {
   "cell_type": "code",
   "execution_count": 7,
   "metadata": {},
   "outputs": [
    {
     "name": "stdout",
     "output_type": "stream",
     "text": [
      "not twins\n"
     ]
    }
   ],
   "source": [
    "def prime(N):\n",
    "    if N <2:\n",
    "        return False\n",
    "    for i in range (2,N):\n",
    "        if N % i == 0:\n",
    "            return False\n",
    "    return True\n",
    "\n",
    "def twin_primes(p,q):\n",
    "    return (abs(p - q) == 2) and prime(p) and prime(q)\n",
    "\n",
    "a = int(input(\"Enter a:\"))\n",
    "b = int(input(\"Enter b:\"))\n",
    "\n",
    "if twin_primes(a,b):\n",
    "    print(\"twin primes\")\n",
    "else:\n",
    "    print(\"not twins\")"
   ]
  },
  {
   "cell_type": "markdown",
   "metadata": {},
   "source": [
    "Exercise 2: A float number is said to have a long tail if the number of digits after the decimal point is more than the number of digits before. For example,12.3214 has a long tail while the number 123.56 does not. Write a function named long_tail that accepts a list of float numbers as argument and returns the count of the numbers that have a long tail."
   ]
  },
  {
   "cell_type": "code",
   "execution_count": 9,
   "metadata": {},
   "outputs": [],
   "source": [
    "def float_count(x):\n",
    "    string_num = str(x)\n",
    "    L = str.split(\".\")\n",
    "    first, second = L[0], L[1]\n",
    "    return len(second) > len(first)\n",
    "\n",
    "def long_tail(n):\n",
    "    if float_count(n):\n",
    "        count = count +1\n",
    "        \n"
   ]
  },
  {
   "cell_type": "markdown",
   "metadata": {},
   "source": [
    "Dictionaries:\n",
    "India features in a cricket tournament in which it has to play 5 games. The runs scored by four players in each of the 5 games is given to you as input. Process this input and create a dictionary named total. The keys of this dictionary is the name of the player. The corresponding value is the sum of the runs scored by that player across the 5 games. The keys of the dictionary should be inserted in the order in which the players are processed from the input area. You can assume that all four players have played all five games. The input will contain exactly four lines. Print the dictionary.\n",
    "\n",
    "Sample Input-Output\n",
    "\n",
    "Input\n",
    "\n",
    "Virat,101,88,93,0,120\n",
    "Rohit,50,100,30,140,80\n",
    "Sky,10,20,30,40,50\n",
    "Shreyas,100,0,0,100,0\n",
    "\n",
    "Output\n",
    "\n",
    "{'Virat': 402, 'Rohit': 400, 'Sky': 150, 'Shreyas': 200}"
   ]
  },
  {
   "cell_type": "code",
   "execution_count": 11,
   "metadata": {},
   "outputs": [
    {
     "name": "stdout",
     "output_type": "stream",
     "text": [
      "{'Virat': 402, 'Rohit': 400, 'Sky': 150, 'Shreyas': 200}\n"
     ]
    }
   ],
   "source": [
    "#dictionary intilaisation \n",
    "players = {} # dict()\n",
    "\n",
    "for i in range (4):\n",
    "    L = input().split(',') #Virat,101,88,93,0,120 --> ['Virat', '101', '88', '93', '0', '120']\n",
    "    player_name = L[0]\n",
    "    total = 0\n",
    "    for runs in L[1:]:\n",
    "        total = total + int(runs)\n",
    "        players[player_name] = total\n",
    "    \n",
    "print(players)\n",
    "\n",
    "\n",
    "\n",
    "\n"
   ]
  },
  {
   "cell_type": "markdown",
   "metadata": {},
   "source": [
    "Two playes 'X' and 'O' are playing tic-tac-toe. Write a function named tic_tac_toe that accepts the board position as a 3×3 matrix and returns the winner if there is one and −1 if the game ends in a draw. You do not have to accept input from the user or print output to the console. You just have to write the function definition.\n",
    "\n",
    "Sample Input-Output\n",
    "\n",
    "Input\n",
    "\n",
    "XOX\n",
    "\n",
    "OXO\n",
    "\n",
    "XOX\n",
    "\n",
    "Output\n",
    "\n",
    "X\n",
    "\n",
    "Explanation\n",
    "\n",
    "The main diagonal has three Xs, hence X is the winner."
   ]
  },
  {
   "cell_type": "code",
   "execution_count": 1,
   "metadata": {},
   "outputs": [],
   "source": [
    "def tic_tac_toe(board):\n",
    "    # Check rows and columns for a winner\n",
    "    for i in range(3):\n",
    "        if board[i][0] == board[i][1] == board[i][2] and board[i][0] != '-':\n",
    "            return board[i][0]\n",
    "        if board[0][i] == board[1][i] == board[2][i] and board[0][i] != '-':\n",
    "            return board[0][i]\n",
    "    \n",
    "    # Check diagonals for a winner\n",
    "    if board[0][0] == board[1][1] == board[2][2] and board[0][0] != '-':\n",
    "        return board[0][0]\n",
    "    if board[0][2] == board[1][1] == board[2][0] and board[0][2] != '-':\n",
    "        return board[0][2]\n",
    "    \n",
    "    # If no winner, return -1 for a draw\n",
    "    return -1"
   ]
  },
  {
   "cell_type": "markdown",
   "metadata": {},
   "source": [
    "A data entry operator has a faulty keyboard. The keys 0 and 1 are very unreliable. Sometimes they work, sometimes they don't. While entering phone numbers into a database, the operator uses the letter 'l' as a replacement for 1 and 'o' as a replacement for 0 whenever these binary digits let him down. Both 'l' and 'o' are in lower case. 'l' is the first letter of the word 'land', and not capital 'i'.\n",
    "\n",
    "Accept a ten-digit number as input. Find the number of places where the numbers 0 and 1 have been replaced by letters. If there are no such replacements, print the string No mistakes. If not, print the number of mistakes (replacements) and in the next line, print the correct phone number."
   ]
  },
  {
   "cell_type": "code",
   "execution_count": 3,
   "metadata": {},
   "outputs": [
    {
     "name": "stdout",
     "output_type": "stream",
     "text": [
      "6 mistakes\n",
      "9111000222\n"
     ]
    }
   ],
   "source": [
    "pno = input()\n",
    "\n",
    "num_mistakes = 0\n",
    "out_pno = ''\n",
    "\n",
    "for digit in pno:\n",
    "    if digit == 'o':\n",
    "        num_mistakes += 1\n",
    "        digit = '0'\n",
    "    elif digit == 'l':\n",
    "        num_mistakes += 1\n",
    "        digit = '1'\n",
    "        \n",
    "    out_pno = out_pno + digit\n",
    "\n",
    "if num_mistakes == 0:\n",
    "    print(\"No mistakes\")\n",
    "\n",
    "else:\n",
    "    print(f\"{num_mistakes} mistakes\")\n",
    "    print(f\"{out_pno}\")\n"
   ]
  }
 ],
 "metadata": {
  "kernelspec": {
   "display_name": "base",
   "language": "python",
   "name": "python3"
  },
  "language_info": {
   "codemirror_mode": {
    "name": "ipython",
    "version": 3
   },
   "file_extension": ".py",
   "mimetype": "text/x-python",
   "name": "python",
   "nbconvert_exporter": "python",
   "pygments_lexer": "ipython3",
   "version": "3.11.5"
  }
 },
 "nbformat": 4,
 "nbformat_minor": 2
}
