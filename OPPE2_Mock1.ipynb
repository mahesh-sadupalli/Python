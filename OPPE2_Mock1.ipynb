{
 "cells": [
  {
   "cell_type": "markdown",
   "metadata": {},
   "source": [
    "**(1)Calculate the percentage increase from the original value to the new value.**\n",
    "\n",
    "    Args:\n",
    "        original (float): The original value.\n",
    "        new (float): The new value.\n",
    "\n",
    "    Returns:\n",
    "        float: The percentage increase.\n",
    "\n",
    "    Examples:\n",
    "    >>> percentage_increase(50, 75)\n",
    "    50.0\n",
    "    >>> percentage_increase(80, 100)\n",
    "    25.0"
   ]
  },
  {
   "cell_type": "code",
   "execution_count": null,
   "metadata": {},
   "outputs": [],
   "source": [
    "def percentage_increase (original, new):\n",
    "    if original == 0:\n",
    "        raise Valueerror(\"Original value can not be zero\")\n",
    "    \n",
    "    increase = new - original\n",
    "    percentage_increase = (increase/original) * 100\n",
    "    return percentage_increase\n",
    "    "
   ]
  },
  {
   "cell_type": "markdown",
   "metadata": {},
   "source": [
    "**(2) Returns True if the number is a 10 digit even number, False otherwise.**\n",
    "\n",
    "    Args: \n",
    "        n (int): The given number. \n",
    "\n",
    "    Returns: \n",
    "        bool : result as True or False. \n",
    "\n",
    "    >>> is_ten_digit_even(8769473839)\n",
    "    False\n",
    "    >>> is_ten_digit_even(9289479278)\n",
    "    True"
   ]
  },
  {
   "cell_type": "code",
   "execution_count": null,
   "metadata": {},
   "outputs": [],
   "source": [
    "def ten_digit_even(n):\n",
    "    '''if len(str(n)) == 10 and n % 2 == 0:\n",
    "        return True\n",
    "    return False'''\n",
    "    return len(str(n)) == 10 and n % 2 == 0"
   ]
  },
  {
   "cell_type": "markdown",
   "metadata": {},
   "source": [
    "**(3) Find all indices of an element in a list.**\n",
    "\n",
    "    Args:\n",
    "        l (list): The input list.\n",
    "        elem: The element to find.\n",
    "\n",
    "    Returns:\n",
    "        list: A list of indices where the element is found.\n",
    "\n",
    "    Examples:\n",
    "    >>> find_indices_of_element([1, 2, 3, 2, 4], 2)\n",
    "    [1, 3]\n",
    "    >>> find_indices_of_element(['a', 'b', 'a', 'c'], 'a')\n",
    "    [0, 2]\n",
    "    '''\n",
    "    '''return [value for index, value in enumerate(l) if value == elem]\n",
    "    produces [Values list]\n",
    "    enumerate(l) prodcues ( Index, Value) '''"
   ]
  },
  {
   "cell_type": "code",
   "execution_count": null,
   "metadata": {},
   "outputs": [],
   "source": [
    "def element_indices(l, elem):\n",
    "    return [index for index, value in enumerate(l) if value == elem]"
   ]
  }
 ],
 "metadata": {
  "kernelspec": {
   "display_name": "Python 3",
   "language": "python",
   "name": "python3"
  },
  "language_info": {
   "name": "python",
   "version": "3.12.4"
  }
 },
 "nbformat": 4,
 "nbformat_minor": 2
}
