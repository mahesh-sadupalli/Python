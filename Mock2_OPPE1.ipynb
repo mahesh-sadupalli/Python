{
 "cells": [
  {
   "cell_type": "markdown",
   "metadata": {},
   "source": [
    "Write a function named add_ones that accepts a matrix M as argument and returns a new matrix by inserting a column of ones before the first column of M. The matrix need not be square.\n",
    "\n",
    "test cases\n",
    "1. [[1,2,3], [4,5,6]] --> [[1,1,2,3], [1,4,5,6]]\n",
    "2. [[1,2,3],[4,5,6], [7,8,9] --> [[1,1,2,3], [1,4,5,6], [1,7,8,9]]"
   ]
  },
  {
   "cell_type": "code",
   "execution_count": 4,
   "metadata": {},
   "outputs": [
    {
     "name": "stdout",
     "output_type": "stream",
     "text": [
      "[[1, 1, 2, 3], [1, 4, 5, 6]]\n"
     ]
    }
   ],
   "source": [
    "def add_ones(M):\n",
    "    for i in range (len (M)):\n",
    "        M[i].insert (0,1)\n",
    "    return M\n",
    "\n",
    "M = [[1,2,3], [4,5,6]]\n",
    "print(add_ones(M))"
   ]
  },
  {
   "cell_type": "markdown",
   "metadata": {},
   "source": [
    "You are given a book that has n pages. The pages of the book are numbered from 1 to n. Each page of the\n",
    "book has a page-number written at the bottom of the page. Find the number of times each digit appears in the page-numbers of the book. For example, if the book has 15 pages, this is the number of times each digit appears:\n",
    "\n",
    "{0: 1, 1: 8, 2: 2, 3: 2, 4: 2, 5:2, 6: 1, 7: 1, 8: 1, 9: 1}\n",
    "\n",
    "Write a function named digit_count that accepts the number of pages as argument. It should return a dictionary D that has the following structure. The keys of this dictionary are digits, the values are the frequencies of occurrence of the corresponding digits.\n",
    "\n",
    "You do not have to accept input from the user or print output to the console. You just have to write the\n",
    "function definition.\n",
    "\n",
    "Input - 15\n",
    "output- {0: 1, 1: 8, 2: 2, 3: 2, 4: 2, 5: 2, 6: 1, 7: 1, 8: 1, 9: 1}"
   ]
  },
  {
   "cell_type": "code",
   "execution_count": 8,
   "metadata": {},
   "outputs": [
    {
     "name": "stdout",
     "output_type": "stream",
     "text": [
      "{0: 1, 1: 8, 2: 2, 3: 2, 4: 2, 5: 2, 6: 1, 7: 1, 8: 1, 9: 1}\n"
     ]
    }
   ],
   "source": [
    "def digit_count(n):\n",
    "    D={}\n",
    "    for i in range (10):\n",
    "        D[i]=0\n",
    "    for j in range(1,n+1): \n",
    "        for k in str(j):\n",
    "            D[int (k)]+=1\n",
    "    return D\n",
    "\n",
    "n=int(input())\n",
    "print(digit_count(n))"
   ]
  },
  {
   "cell_type": "markdown",
   "metadata": {},
   "source": [
    "Consider the list L = [1, 2, 1, 5, 4, 5, 4, 3, 4].\n",
    "\n",
    "Group-by is an operation on a list L that does the following: \n",
    "\n",
    "It combines identical elements in L into a list. That is, it creates a list for each unique element in L and all the copies of this element go into this list.\n",
    "\n",
    "The result of a group-by operation is a nested list.\n",
    "\n",
    "For example, group_by (L) should return the following list: \n",
    "\n",
    "[[1, 1], [2],[3], [4, 4, 4], [5, 5]]\n",
    "\n"
   ]
  },
  {
   "cell_type": "code",
   "execution_count": 12,
   "metadata": {},
   "outputs": [
    {
     "name": "stdout",
     "output_type": "stream",
     "text": [
      "[[1, 1], [2], [3], [4, 4, 4], [5, 5]]\n"
     ]
    }
   ],
   "source": [
    "def group_by(L):\n",
    "    L.sort()\n",
    "    ans = []\n",
    "    i =0\n",
    "    while i < len (L):\n",
    "        temp = []\n",
    "        temp.append(L[i])\n",
    "        j = i + 1\n",
    "        while j < len(L) and L[j] == L[i]:\n",
    "            temp.append (L[j])\n",
    "            j+= 1\n",
    "        ans. append(temp)\n",
    "        i = j\n",
    "    return ans\n",
    "\n",
    "L = [1, 2, 1, 5, 4, 5, 4, 3, 4]\n",
    "print (group_by(L))"
   ]
  },
  {
   "cell_type": "markdown",
   "metadata": {},
   "source": [
    "There are five boxes arranged from left to right. You keep adding a variable number of coins sequentiallyin each box. Start from box-1 and keep going right. Once you reach the last box, head back to box-1 and then keep adding coins. In any given turn, the number of coins added to a box is always less than 10\n",
    "\n",
    "Find the box which has the maximum number of coins. If there are two boxes which have the same maximum number of coins, output the smaller of the two box numbers. The sequence of coins is represented by a string. For example, if the input is 3972894910, this is how coins are added:\n",
    "\n",
    "Box\t\t\t\tCoins\n",
    "\n",
    "1\t\t\t\t3 + 9 = 12\n",
    "\n",
    "2\t\t\t\t9 + 4 = 13\n",
    "\n",
    "3\t\t\t\t7 + 9 = 16\t\t\t\n",
    "\n",
    "4\t\t\t\t2 + 1 = 3\n",
    "\n",
    "5\t\t\t\t8 + 0 = 8\n",
    "\n",
    "\n",
    "In this case, 3 is the output as box-3 has the maximum number of coins in it.\n",
    "\n",
    "\n"
   ]
  },
  {
   "cell_type": "code",
   "execution_count": 2,
   "metadata": {},
   "outputs": [
    {
     "name": "stdout",
     "output_type": "stream",
     "text": [
      "3\n"
     ]
    }
   ],
   "source": [
    "A=input()\n",
    "B=[]\n",
    "for i in range (1,6):\n",
    "    B. append(0)\n",
    "for i in range(len(A)):\n",
    "    B[i%5]+=int(A[i])\n",
    "\n",
    "print(B.index(max(B))+1)"
   ]
  },
  {
   "cell_type": "markdown",
   "metadata": {},
   "source": [
    "Players are a dictionary that has the details of the sports played by some people. The keys are names of the people. The value corresponding to a key is another dictionary. The keys of the inner dictionary are the names of the sports, and the values are Boolean values which represent whether the person plays a sport or not. For Example:\n",
    "\n",
    "players = { 'Karthik': {'Tennis': True, 'Badminton': True, 'Cricket': False }\n",
    "\n",
    "                    'Rahul': {'Tennis': False, 'Badminton': False, ‘Cricket': True}\n",
    "\n",
    "                 }\n",
    "                 \n",
    "Here, Karthik plays tennis and badminton, but not cricket. Write a function named exactly_two that accepts the dictionary players as argument and returns the set of all players who play exactly two sports. You do not have to accept input from the user or print output to the console. You just have to write the function definition.\n",
    "\n"
   ]
  },
  {
   "cell_type": "code",
   "execution_count": 3,
   "metadata": {},
   "outputs": [],
   "source": [
    "def exactly_two(players):\n",
    "    d= []\n",
    "    for i in players: \n",
    "        sport_count=0\n",
    "        if players [i] ['Tennis']:\n",
    "            sport_count+=1\n",
    "        if players [i] ['Badminton']:\n",
    "            sport_count+=1\n",
    "        if players [i]['Cricket']:\n",
    "            sport_count+=1\n",
    "        if sport_count==2:\n",
    "            d.append (i)\n",
    "    return set(d)"
   ]
  },
  {
   "cell_type": "markdown",
   "metadata": {},
   "source": [
    "The scores_dataset is a list of dictionaries one of whose entries is given below for your reference:\n",
    "\n",
    "{'SeqNo': 1, 'Name': 'Devika', 'Gender': 'F', 'City': 'Bengaluru', 'Mathematics': 85, 'Physics': 100, 'Chemistry': 79, 'Biology': 75, 'Computer Science': 88, 'History': 60, 'Civics': 88, 'Philosophy': 95}\n",
    "\n",
    "A student X can mentor another student Y in subject if the following condition is satisfied: 10≤X.subject-Y.subject<20\n",
    "\n",
    " Write a function named mentors that accepts the following arguments: scores_dataset, subject\n",
    "\n",
    "The function should return a dictionary having the following structure:\n",
    "key: SeqNo of a student\n",
    "value: list of SeqNo of students who can be mentored by the above student\n",
    "\n",
    "1) You do not have to accept input from the user or print output to the console.\n",
    "\n",
    "2) We randomly sample five elements from the dictionary that you return and print them to the console. You don't have to worry about the order in which the SeqNo are entered into any list.\n",
    "\n",
    "3) Note that a student cannot mentor himself! Also, if a student cannot mentor anyone, then the list should be empty.\n"
   ]
  },
  {
   "cell_type": "code",
   "execution_count": 2,
   "metadata": {},
   "outputs": [],
   "source": [
    "def mentors (scores_dataset, subject):\n",
    "    students = []\n",
    "    for student in scores_dataset: \n",
    "        students.append((student['SeqNo'], student[subject]))\n",
    "    \n",
    "    result = dict()\n",
    "    \n",
    "    for (mentor_id, mentor_marks) in students:\n",
    "        mentees = []\n",
    "        for (mentee_id, mentee_marks) in students:\n",
    "            if 10<=mentor_marks - mentee_marks <=20:\n",
    "                mentees.append(mentee_id)\n",
    "        result[mentor_id] = mentees\n",
    "    return result"
   ]
  },
  {
   "cell_type": "markdown",
   "metadata": {},
   "source": [
    "For the above school data: An institution decides to allow students to create student groups for each subject where students with similar marks can help each other. But it draws up a set of constraints for creating student groups:\n",
    "\n",
    "A group should be associated with a particular subject.\n",
    "\n",
    "The difference between the scores of any two students in the group should be at most mark_limit.\n",
    "\n",
    "It follows that multiple groups can be formed for a given subject.\n",
    "\n",
    "Write a function called crowded_group that accepts three arguments as input:\n",
    "\n",
    "scores_dataset\n",
    "\n",
    "subject\n",
    "\n",
    "mark_limit\n",
    "\n",
    "Return the size of the largest possible group in this subject with the given mark_limit.\n"
   ]
  },
  {
   "cell_type": "code",
   "execution_count": 3,
   "metadata": {},
   "outputs": [],
   "source": [
    "def crowded_group(scores_dataset, subject, mark_limit): \n",
    "    marks=[]\n",
    "    for student in scores_dataset:\n",
    "        marks.append(student[subject])\n",
    "    \n",
    "    marks.sort()\n",
    "    mgsize = 1\n",
    "    \n",
    "    while marks != []:\n",
    "        start = min(marks)\n",
    "        group = [start]\n",
    "        marks.remove(start)\n",
    "        \n",
    "        for mark in marks:\n",
    "            if mark -start <= mark_limit:\n",
    "                group.append(mark)\n",
    "            \n",
    "        if len(group) > mgsize:\n",
    "            mgsize = len(group)\n",
    "    \n",
    "    return mgsize"
   ]
  },
  {
   "cell_type": "markdown",
   "metadata": {},
   "source": [
    "Gurunath is a popular store inside IIT Madras. Among other things, it sells stationary items. The owner of the stores gives you the list of transactions that have happened in a day. Each transcation comes with a unique transaction ID. He wants to estaimte the cost of each transaction. Can you help him out?\n",
    "\n",
    "The list trans is a list of transactions that happenect at the shop in a given day. Each element of this list is a dictionary. The details of one such transaction is given below:\n",
    "\n",
    "{\n",
    "\n",
    "'TID': 'Gurunath_8528',\n",
    "\n",
    "'Items': [\n",
    "\n",
    "{'Name': 'Notebook', 'Price': 50, 'Qty': 4}, \n",
    "\n",
    "{'Name': 'Pencil', 'Price': 10, 'Qty': 1},\n",
    "\n",
    "{'Name': ‘Eraser, 'Price': 15, 'Qty': 1}, \n",
    "\n",
    "{'Name': ‘F’ile, 'Price': 80, 'Qty': 1},\n",
    "\n",
    "]\n",
    "\n",
    "}\n",
    "\n",
    " Write a function named get_summary that accepts the list trans as argument. It should return a list of dictionaries. Each dictionary should have two keys: \"TID\" and \"Cost\". For example, one of the elements of the list would be as follows:\n",
    "\n",
    "{\n",
    "\n",
    "\"Cost\": 305,\n",
    "\n",
    "\"TID\": \"Gurunath_8528\"\n",
    "\n",
    "｝\n",
    "\n",
    "The computation of the cost is given below:50x4+10x1+15x1+80x1=305\n",
    "\n",
    "(1) The order of elements in the returned list should be the same as the order in the input list. That is the ith element in the returned list should correspond to the transaction cost of the ith element in\n",
    "\n",
    "(2) You do not have to accept input from the user or print the output to the console. You just write the function definition."
   ]
  },
  {
   "cell_type": "code",
   "execution_count": 5,
   "metadata": {},
   "outputs": [],
   "source": [
    "def get_summary (trans):\n",
    "    L= []\n",
    "    for tr in trans:\n",
    "        tid = tr['TID']\n",
    "        Cost=0\n",
    "        for item in tr['Items']:\n",
    "            Cost+= item['Price']*item['Qty']\n",
    "        D = dict()\n",
    "        D ['TID']= tid\n",
    "        D['Cost']=Cost\n",
    "        L.append (D)\n",
    "    return L"
   ]
  },
  {
   "cell_type": "markdown",
   "metadata": {},
   "source": [
    "para is a sequence of space-separated words. All words will be in lower case. There will be a single space between consecutive words. The string has no other special characters other than the space.\n",
    "\n",
    "Write a function named exact_count that accepts the string para and a positive integer n as arguments. You have to return True if there is at least one word in para that occurs exactly n times, and False otherwise.\n",
    "\n"
   ]
  },
  {
   "cell_type": "code",
   "execution_count": 6,
   "metadata": {},
   "outputs": [],
   "source": [
    "def exact_count(para, n):\n",
    "    words = para.split()\n",
    "    \n",
    "    for word in set(words):\n",
    "        if words.count(word) == n:\n",
    "            return True\n",
    "    \n",
    "    return False"
   ]
  },
  {
   "cell_type": "markdown",
   "metadata": {},
   "source": [
    "A square matrix M is said to be:\n",
    "\n",
    "diagonal: if the entries outside the main-diagonal are all zeros\n",
    "\n",
    "scalar: if it is a diagonal matrix, all of whose diagonal elements are equal\n",
    "\n",
    "identity: if it is a scalar matrix, all of whose diagonal elements are equal to 1\n",
    "\n",
    "Write a function named matrix_type that accepts a matrix M as argument and returns the type of matrix. It should be one of these strings: diagonal, scalar, identity, non-diagonal. The type you output should be the most appropriate one for the given matrix."
   ]
  },
  {
   "cell_type": "code",
   "execution_count": 7,
   "metadata": {},
   "outputs": [],
   "source": [
    "def matrix_type(M):\n",
    "    n = len(M)\n",
    "    \n",
    "    #diagonal\n",
    "    diag = []\n",
    "    for i in range(n):\n",
    "        diag.append(M[i][i])\n",
    "        for j in range(n):\n",
    "            if (i != j) and (M[i][j] != 0):\n",
    "                return 'non-diagonal'\n",
    "    \n",
    "    #identity\n",
    "    if diag == [1]*n:\n",
    "        return 'identity'\n",
    "        \n",
    "    #scalar matrix\n",
    "    if diag == [diag[0]]*n:\n",
    "        return 'scalar'\n",
    "    \n",
    "    return 'diagonal'"
   ]
  },
  {
   "cell_type": "markdown",
   "metadata": {},
   "source": [
    "A sequence of integers of even length is said to be left-heavy if the sum of the terms in the left-half of the sequence is greater than the sum of the terms in the right half. It is termed right-heavy if the sum of the second half is greater than the first half. It is said to be balanced if both the sums are equal.\n",
    "\n",
    "Accept a sequence of comma-separated integers as input. Determine if the sequence is left-heavy, right-heavy or balanced and print this as the output."
   ]
  },
  {
   "cell_type": "code",
   "execution_count": 8,
   "metadata": {},
   "outputs": [
    {
     "name": "stdout",
     "output_type": "stream",
     "text": [
      "right-heavy\n"
     ]
    }
   ],
   "source": [
    "L = input().split(',')\n",
    "P = []\n",
    "\n",
    "for elem in L:\n",
    "    P.append(int(elem))\n",
    "\n",
    "n = len(P)\n",
    "left_sum = sum(P[:n//2])\n",
    "right_sum = sum(P[n//2:])\n",
    "\n",
    "if left_sum > right_sum:\n",
    "    print('left-heavy')\n",
    "elif left_sum < right_sum:\n",
    "    print('right-heavy')\n",
    "else:\n",
    "    print('balanced')"
   ]
  }
 ],
 "metadata": {
  "kernelspec": {
   "display_name": "base",
   "language": "python",
   "name": "python3"
  },
  "language_info": {
   "codemirror_mode": {
    "name": "ipython",
    "version": 3
   },
   "file_extension": ".py",
   "mimetype": "text/x-python",
   "name": "python",
   "nbconvert_exporter": "python",
   "pygments_lexer": "ipython3",
   "version": "3.11.5"
  }
 },
 "nbformat": 4,
 "nbformat_minor": 2
}
