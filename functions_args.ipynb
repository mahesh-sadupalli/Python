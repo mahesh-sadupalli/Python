{
 "cells": [
  {
   "attachments": {},
   "cell_type": "markdown",
   "metadata": {},
   "source": [
    "This is about *args function. *args is a special syntax in Python that allows a function to accept any number of positional arguments. It is commonly used when the number of arguments not known in advance. *args is a powerful feature in Python that allows you to handle a variable number of arguments in a function. It provides flexibility and allows you to write more generic and reusable code"
   ]
  },
  {
   "attachments": {},
   "cell_type": "markdown",
   "metadata": {},
   "source": [
    "Variable-length argument lists: When you want a function to accept an arbitrary number of arguments without specifying them individually, you can use *args to collect all the arguments into a tuple. This allows you to work with the arguments as a sequence within the function"
   ]
  },
  {
   "attachments": {},
   "cell_type": "markdown",
   "metadata": {},
   "source": [
    "In Python, a tuple is an ordered, immutable sequence of elements, enclosed in parentheses (). It is a data structure similar to a list, but with the key difference that tuples are immutable, meaning their elements cannot be modified once created"
   ]
  },
  {
   "cell_type": "code",
   "execution_count": 8,
   "metadata": {},
   "outputs": [
    {
     "name": "stdout",
     "output_type": "stream",
     "text": [
      "1\n",
      "apple\n"
     ]
    }
   ],
   "source": [
    "my_tuple = (1, 2, 3, 'apple', 'banana')\n",
    "print(my_tuple[0])  # Output: 1\n",
    "print(my_tuple[3])  # Output: 'apple'\n"
   ]
  },
  {
   "cell_type": "code",
   "execution_count": 5,
   "metadata": {},
   "outputs": [
    {
     "name": "stdout",
     "output_type": "stream",
     "text": [
      "15\n"
     ]
    }
   ],
   "source": [
    "def sum_numbers(*args):\n",
    "    total = 0\n",
    "    for num in args:\n",
    "        total += num\n",
    "    return total\n",
    "\n",
    "result = sum_numbers(1, 2, 3, 4, 5)\n",
    "print(result)  # Output: 15\n"
   ]
  },
  {
   "attachments": {},
   "cell_type": "markdown",
   "metadata": {},
   "source": [
    "Forwarding arguments: If you have a function that needs to call another function with a variable number of arguments, you can use *args to capture the arguments and then pass them along. This is useful when you want to create wrapper functions or utility functions that delegate the actual work to other functions"
   ]
  },
  {
   "cell_type": "code",
   "execution_count": 6,
   "metadata": {},
   "outputs": [
    {
     "name": "stdout",
     "output_type": "stream",
     "text": [
      "10\n"
     ]
    }
   ],
   "source": [
    "def multiply(a, b):\n",
    "    return a * b\n",
    "\n",
    "def multiply_by_two(*args):\n",
    "    return multiply(*args, 2)\n",
    "\n",
    "result = multiply_by_two(5)\n",
    "print(result)  # Output: 10\n"
   ]
  },
  {
   "attachments": {},
   "cell_type": "markdown",
   "metadata": {},
   "source": [
    "Function composition: When you want to combine multiple functions together, you can use *args to pass the result of one function as arguments to another. This allows you to create more flexible and reusable code"
   ]
  },
  {
   "cell_type": "code",
   "execution_count": 7,
   "metadata": {},
   "outputs": [
    {
     "name": "stdout",
     "output_type": "stream",
     "text": [
      "(5, 6)\n"
     ]
    }
   ],
   "source": [
    "def add(a, b):\n",
    "    return a + b\n",
    "\n",
    "def multiply(a, b):\n",
    "    return a * b\n",
    "\n",
    "def add_and_multiply(*args):\n",
    "    result1 = add(*args)\n",
    "    result2 = multiply(*args)\n",
    "    return result1, result2\n",
    "\n",
    "result = add_and_multiply(2, 3)\n",
    "print(result)  # Output: (5, 6)\n"
   ]
  }
 ],
 "metadata": {
  "kernelspec": {
   "display_name": "Python 3",
   "language": "python",
   "name": "python3"
  },
  "language_info": {
   "codemirror_mode": {
    "name": "ipython",
    "version": 3
   },
   "file_extension": ".py",
   "mimetype": "text/x-python",
   "name": "python",
   "nbconvert_exporter": "python",
   "pygments_lexer": "ipython3",
   "version": "3.9.13"
  },
  "orig_nbformat": 4
 },
 "nbformat": 4,
 "nbformat_minor": 2
}
